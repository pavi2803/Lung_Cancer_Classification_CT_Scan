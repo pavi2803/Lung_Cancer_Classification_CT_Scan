{
 "cells": [
  {
   "cell_type": "markdown",
   "id": "99e39718",
   "metadata": {},
   "source": [
    "### Non medical Images sample"
   ]
  },
  {
   "cell_type": "code",
   "execution_count": 8,
   "id": "42cb29f6",
   "metadata": {},
   "outputs": [
    {
     "name": "stdout",
     "output_type": "stream",
     "text": [
      "Overwriting existing directory '/Users/pavithrasenthilkumar/fiftyone/coco-2017/validation'\n",
      "Downloading split 'validation' to '/Users/pavithrasenthilkumar/fiftyone/coco-2017/validation' if necessary\n",
      "Found annotations at '/Users/pavithrasenthilkumar/fiftyone/coco-2017/raw/instances_val2017.json'\n",
      "Downloading 20 images\n",
      " 100% |████████████████████| 20/20 [1.9s elapsed, 0s remaining, 10.5 images/s]      \n",
      "Writing annotations for 20 downloaded samples to '/Users/pavithrasenthilkumar/fiftyone/coco-2017/validation/labels.json'\n",
      "Dataset info written to '/Users/pavithrasenthilkumar/fiftyone/coco-2017/info.json'\n",
      "Loading existing dataset 'coco-2017-validation-20'. To reload from disk, either delete the existing dataset or provide a custom `dataset_name` to use\n",
      "Directory '/Users/pavithrasenthilkumar/documents/my_codes/projects/lung_cancer_classification_CT_scan' already exists; export will be merged with existing files\n",
      " 100% |█████████████████████| 0/0 [2.7ms elapsed, ? remaining, ? samples/s] \n"
     ]
    }
   ],
   "source": [
    "import fiftyone as fo\n",
    "import fiftyone.zoo as foz\n",
    "\n",
    "\n",
    "dataset = foz.load_zoo_dataset(\n",
    "    \"coco-2017\",\n",
    "    split=\"validation\",\n",
    "    label_types=[\"detections\"],\n",
    "    classes=[\"cell phone\",\"keyboard\"],  # You can add more\n",
    "    max_samples=20, \n",
    "    shuffle=True,\n",
    "    overwrite=True, # overwrite if already exists\n",
    "    progress=True,\n",
    ")\n",
    "\n",
    "# Step 2 (Optional): Launch the interactive viewer\n",
    "# session = fo.launch_app(dataset)\n",
    "\n",
    "# Step 3: Export just the images\n",
    "dataset.export(\n",
    "    export_dir=\"/Users/pavithrasenthilkumar/documents/my_codes/projects/lung_cancer_classification_CT_scan\",\n",
    "    dataset_type=fo.types.ImageDirectory,\n",
    "    label_field=None  # We're not using labels here\n",
    ")\n"
   ]
  },
  {
   "cell_type": "markdown",
   "id": "28433516",
   "metadata": {},
   "source": [
    "### Medical Sample - not lungs"
   ]
  },
  {
   "cell_type": "code",
   "execution_count": 6,
   "id": "bc520cdc",
   "metadata": {},
   "outputs": [
    {
     "name": "stdout",
     "output_type": "stream",
     "text": [
      "Using downloaded and verified file: /Users/pavithrasenthilkumar/.medmnist/pathmnist.npz\n",
      "✅ Saved 20 grayscale images to data/medical_other_bw/pathmnist\n"
     ]
    }
   ],
   "source": [
    "from medmnist import INFO\n",
    "from PIL import Image\n",
    "import os\n",
    "\n",
    "data_flag = \"pathmnist\"  # or other dataset\n",
    "info = INFO[data_flag]\n",
    "\n",
    "DataClass = getattr(__import__(\"medmnist\"), info[\"python_class\"])\n",
    "dataset = DataClass(split=\"test\", download=True)\n",
    "\n",
    "save_dir = f\"data/medical_other_bw/{data_flag}\"\n",
    "os.makedirs(save_dir, exist_ok=True)\n",
    "\n",
    "for i, (img, _) in enumerate(dataset):\n",
    "    # img is already a PIL Image or numpy array convertible to PIL Image\n",
    "    if not isinstance(img, Image.Image):\n",
    "        img = Image.fromarray(img.squeeze())  # convert numpy array to PIL Image if needed\n",
    "\n",
    "    img.save(os.path.join(save_dir, f\"{data_flag}_{i}.png\"))\n",
    "    if i >= 21:\n",
    "        break\n",
    "\n",
    "print(f\"✅ Saved 20 grayscale images to {save_dir}\")"
   ]
  },
  {
   "cell_type": "code",
   "execution_count": null,
   "id": "2f4c9699",
   "metadata": {},
   "outputs": [],
   "source": []
  }
 ],
 "metadata": {
  "kernelspec": {
   "display_name": "base",
   "language": "python",
   "name": "python3"
  },
  "language_info": {
   "codemirror_mode": {
    "name": "ipython",
    "version": 3
   },
   "file_extension": ".py",
   "mimetype": "text/x-python",
   "name": "python",
   "nbconvert_exporter": "python",
   "pygments_lexer": "ipython3",
   "version": "3.12.7"
  }
 },
 "nbformat": 4,
 "nbformat_minor": 5
}
